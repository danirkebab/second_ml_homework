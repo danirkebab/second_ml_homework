{
 "cells": [
  {
   "cell_type": "markdown",
   "metadata": {},
   "source": [
    "# ДЗ Линейная регрессия\n",
    "\n",
    "В данном задании мы рассмотрим набор данных об учащихся, собранный в 2006 году в одной из школ Португалии. Данные представлены в неудобном для машинного обучения виде, и содержат мусор. Ваша задача &mdash; привести их к надлежащему виду и обучить на них простую модель.\n",
    "\n",
    "Данные состоят из четырех файлов:\n",
    "- data.csv &mdash; основная таблица с информацией о учащихся\n",
    "- scores.csv &mdash; список финальных оценок по одному из предметов (20-балльная шкала переведенная в проценты)\n",
    "- attendance.csv &mdash; таблица посещений занятий по этому предмету\n",
    "- school_support.txt &mdash; список учащихся, которым оказывается финансовая поддержка\n",
    "\n",
    "Ваша задача &mdash; построить модель для предсказания финальных оценок исходя из всех остальных данных и проверить качество ее работы с помощью кросс-валидации. В качестве алгоритма мы будем использовать линейную регрессию\n",
    "\n",
    "Расшифровка столбцов в data.csv для справки:\n",
    "- age &mdash; возраст\n",
    "- Medu &mdash; уровень образования матери (по некоторой условной шкале)\n",
    "- Fedu &mdash; уровень образования отца (по некоторой условной шкале)\n",
    "- traveltime &mdash; время в пути до школы (1 – < 15 мин., 2 – от 15 до 30 мин., 3 – от 30 мин. to 1 ч.\n",
    "или 4 – > 1 ч.)\n",
    "- studytime &mdash; время, затрачиваемое на занятия вне школы (1 – < 2 ч., 2 – от 2 до 5 ч., 3 – от 5 до 10 ч. или 4 – > 10 ч.)\n",
    "- famrel &mdash; насколько хорошие отношения в семье у учащегося (по некоторой условной шкале)\n",
    "- freetime &mdash; количество свободного времени вне школы (по некоторой условной шкале)\n",
    "- goout &mdash; время, затрачиваемое на общение с друзьями (по некоторой условной шкале)\n",
    "- Dalc &mdash; количество употребления алкоголя в учебные дни (по некоторой условной шкале)\n",
    "- Walc &mdash; количество употребления алкоголя в неучебные дни (по некоторой условной шкале)\n",
    "- health &mdash; уровень здоровья (по некоторой условной шкале)\n",
    "- sex_M &mdash; пол: мужской (1) или женский (0)\n",
    "- address_U &mdash; живет ли учащийся в городе (1) или в пригороде (0)\n",
    "- famsize_LE3 &mdash; размер семьи: не больше 3 человек (1) или больше (0)\n",
    "- Pstatus_T &mdash; живут ли родители вместе (1) или отдельно (0)\n",
    "- nursery &mdash; посещал ли учащийся детский сад\n",
    "- plans_university &mdash; планирует ли учащийся поступать в университет (-1 или 1)\n",
    "- past_failures &mdash; количество неудовлетворительных оценок по другим предметам ранее (от 0 до 4)\n",
    "\n",
    "*Примечание. Несколько признаков в данных содержат ошибки/проблемы/некорректности. Эти проблемы нужно исправить. Для\n",
    "проверки &mdash; всего в данных таких проблем четыре.*"
   ]
  },
  {
   "cell_type": "markdown",
   "metadata": {},
   "source": [
    "### Задача 1: сломанный признак (а может и не один)\n",
    "__(1 балл)__\n",
    "\n",
    "Загрузите таблицу data.csv.\n",
    "\n",
    "Найдите в данных сломанный признак (он не соответствует описанию) и исправьте его."
   ]
  },
  {
   "cell_type": "code",
   "execution_count": 158,
   "metadata": {},
   "outputs": [],
   "source": [
    "import numpy as np\n",
    "import pandas as pd\n",
    "data = pd.read_csv(\"data.csv\")\n",
    "data = data.join(data['plans_universitypast_failures'].apply(str).str.extract('(-?1)(\\d)').apply(lambda x: [int(x[0]),int(x[1])],axis=1, result_type='expand').rename(columns={0:'plans_university', 1: 'past_failures'}))\n",
    "data = data.drop('plans_universitypast_failures', axis=1)\n"
   ]
  },
  {
   "cell_type": "markdown",
   "metadata": {},
   "source": [
    "Два последних столбца *plans_university* и *past_failures* были объединены."
   ]
  },
  {
   "cell_type": "markdown",
   "metadata": {},
   "source": [
    "### Задача 2: пропуски в данных \n",
    "__(1 балл)__\n",
    "\n",
    "Проверьте, есть ли в данных пропуски (значения NaN). Замените все пропущенные значения на среднее значение этого признака по столбцу.\n",
    "\n",
    "*Hint: изучите в pandas функции loc, isnull, а также передачу булевых массивов в качестве индексов.*"
   ]
  },
  {
   "cell_type": "code",
   "execution_count": 159,
   "metadata": {},
   "outputs": [],
   "source": [
    "data = data.fillna(data.mean())"
   ]
  },
  {
   "cell_type": "markdown",
   "metadata": {},
   "source": [
    "### Задача 3: нормализация данных\n",
    "__(1 балл)__\n",
    "\n",
    "Нормализуйте данные любым способом"
   ]
  },
  {
   "cell_type": "code",
   "execution_count": 160,
   "metadata": {},
   "outputs": [],
   "source": [
    "data = (data - data.min()) / (data.max() - data.min())"
   ]
  },
  {
   "cell_type": "markdown",
   "metadata": {},
   "source": [
    "### Задача 4: кросс-валидация для исходных данных\n",
    "__(1 балл)__\n",
    "\n",
    "Загрузите файл scores.csv и протестируйте, как линейная регрессия предсказывает ответ сейчас (с помощью кросс-валидации).\n",
    "\n",
    "Кроссвалидацию сделайте по 4 разбивкам. Выведите качество в каждом их разбиений.\n",
    "\n",
    "*Hint: воспользуйтесь sklearn.linear_model и sklearn.model_selection.*"
   ]
  },
  {
   "cell_type": "code",
   "execution_count": 161,
   "metadata": {
    "scrolled": true
   },
   "outputs": [
    {
     "name": "stdout",
     "output_type": "stream",
     "text": [
      "[0.21559119 0.25926843 0.14207912 0.232442  ]\n",
      "0.212345183160651\n"
     ]
    }
   ],
   "source": [
    "import matplotlib.pyplot as plt\n",
    "from sklearn.linear_model import LinearRegression\n",
    "from sklearn.model_selection import cross_val_score\n",
    "scores = pd.read_csv(\"scores.csv\",header=None)\n",
    "x, y = data, scores\n",
    "regression = LinearRegression()\n",
    "test_scores = cross_val_score(regression, x, y, cv = 4)\n",
    "print(test_scores)\n",
    "print(test_scores.mean())"
   ]
  },
  {
   "cell_type": "markdown",
   "metadata": {},
   "source": [
    "### Задача 5: полные данные\n",
    "__(2 балла)__\n",
    "\n",
    "Воспользуйтесь файлами attendance.csv и school_support.txt для того, чтобы добавить новые признаки в данные. Желательно по максимуму использовать возможности pandas для упрощения преобразований.\n",
    "\n",
    "school_support число в строке значит что i-ый школьник из исходной таблицы получал мат помощь (обратите внимание что строк в файле меньше, подумайте как правильно импортировать данные)\n",
    "\n",
    "Добавьте данные таким образом, чтобы качество выросло"
   ]
  },
  {
   "cell_type": "code",
   "execution_count": 162,
   "metadata": {
    "scrolled": true
   },
   "outputs": [
    {
     "name": "stderr",
     "output_type": "stream",
     "text": [
      "<ipython-input-162-8284f1975cee>:3: SettingWithCopyWarning: \n",
      "A value is trying to be set on a copy of a slice from a DataFrame\n",
      "\n",
      "See the caveats in the documentation: https://pandas.pydata.org/pandas-docs/stable/user_guide/indexing.html#returning-a-view-versus-a-copy\n",
      "  data['school_support'][school_support[0]] = 1\n"
     ]
    }
   ],
   "source": [
    "school_support = pd.read_csv('school_support.txt', header=None)\n",
    "data['school_support'] = 0\n",
    "data['school_support'][school_support[0]] = 1\n",
    "attendance = pd.read_csv(\"attendance.csv\")\n",
    "attendance = attendance.apply(lambda x:  x[0].count('+'), axis=1)\n",
    "data['attendance'] = attendance"
   ]
  },
  {
   "cell_type": "markdown",
   "metadata": {},
   "source": [
    "### Задача 6: борьба с выбросами\n",
    "__(1.5 балла)__\n",
    "\n",
    "Качество предсказания может ухудшаться, если в данных присутствуют корректные значения признаков (с точки зрения чтения данных и применения методов), но не соответствующие реальным объектам. Например, данные могли быть введены в неверном формате, а потом слишком грубо приведены к общему виду, из-за чего ошибка не была замечена.\n",
    "Попробуем от такого избавиться &mdash; а для этого такие объекты нужно сначала найти. Конечно, нам еще недоступны многие продвинутые способы, но давайте попробуем обойтись простыми.\n",
    "\n",
    "Первый способ это сделать &mdash; посмотреть для каждого признака на распределение его значений и проверить крайние значения на правдоподобность. (постройте гистограммы для признаков, как минимум для подозрительных)\n",
    "\n",
    "*Hint 1: используйте функцию DataFrame.hist*\n",
    "\n",
    "*Hint 2: в описании датасета выше есть информация, необходимая для восстановления правильных значений*"
   ]
  },
  {
   "cell_type": "code",
   "execution_count": 151,
   "metadata": {},
   "outputs": [
    {
     "data": {
      "text/plain": [
       "array([[<AxesSubplot:title={'center':'school_support'}>]], dtype=object)"
      ]
     },
     "execution_count": 151,
     "metadata": {},
     "output_type": "execute_result"
    },
    {
     "data": {
      "image/png": "[encoded data removed]",
      "text/plain": [
       "<Figure size 432x288 with 1 Axes>"
      ]
     },
     "metadata": {
      "needs_background": "light"
     },
     "output_type": "display_data"
    },
    {
     "data": {
      "image/png": "[encoded data removed]",
      "text/plain": [
       "<Figure size 432x288 with 1 Axes>"
      ]
     },
     "metadata": {
      "needs_background": "light"
     },
     "output_type": "display_data"
    },
    {
     "data": {
      "image/png": "[encoded data removed]",
      "text/plain": [
       "<Figure size 432x288 with 1 Axes>"
      ]
     },
     "metadata": {
      "needs_background": "light"
     },
     "output_type": "display_data"
    },
    {
     "data": {
      "image/png": "[encoded data removed]",
      "text/plain": [
       "<Figure size 432x288 with 1 Axes>"
      ]
     },
     "metadata": {
      "needs_background": "light"
     },
     "output_type": "display_data"
    },
    {
     "data": {
      "image/png": "[encoded data removed]",
      "text/plain": [
       "<Figure size 432x288 with 1 Axes>"
      ]
     },
     "metadata": {
      "needs_background": "light"
     },
     "output_type": "display_data"
    },
    {
     "data": {
      "image/png": "[encoded data removed]",
      "text/plain": [
       "<Figure size 432x288 with 1 Axes>"
      ]
     },
     "metadata": {
      "needs_background": "light"
     },
     "output_type": "display_data"
    },
    {
     "data": {
      "image/png": "[encoded data removed]",
      "text/plain": [
       "<Figure size 432x288 with 1 Axes>"
      ]
     },
     "metadata": {
      "needs_background": "light"
     },
     "output_type": "display_data"
    },
    {
     "data": {
      "image/png": "[encoded data removed]",
      "text/plain": [
       "<Figure size 432x288 with 1 Axes>"
      ]
     },
     "metadata": {
      "needs_background": "light"
     },
     "output_type": "display_data"
    },
    {
     "data": {
      "image/png": "[encoded data removed]",
      "text/plain": [
       "<Figure size 432x288 with 1 Axes>"
      ]
     },
     "metadata": {
      "needs_background": "light"
     },
     "output_type": "display_data"
    },
    {
     "data": {
      "image/png": "[encoded data removed]",
      "text/plain": [
       "<Figure size 432x288 with 1 Axes>"
      ]
     },
     "metadata": {
      "needs_background": "light"
     },
     "output_type": "display_data"
    },
    {
     "data": {
      "image/png": "[encoded data removed]",
      "text/plain": [
       "<Figure size 432x288 with 1 Axes>"
      ]
     },
     "metadata": {
      "needs_background": "light"
     },
     "output_type": "display_data"
    },
    {
     "data": {
      "image/png": "[encoded data removed]",
      "text/plain": [
       "<Figure size 432x288 with 1 Axes>"
      ]
     },
     "metadata": {
      "needs_background": "light"
     },
     "output_type": "display_data"
    },
    {
     "data": {
      "image/png": "[encoded data removed]",
      "text/plain": [
       "<Figure size 432x288 with 1 Axes>"
      ]
     },
     "metadata": {
      "needs_background": "light"
     },
     "output_type": "display_data"
    },
    {
     "data": {
      "image/png": "[encoded data removed]",
      "text/plain": [
       "<Figure size 432x288 with 1 Axes>"
      ]
     },
     "metadata": {
      "needs_background": "light"
     },
     "output_type": "display_data"
    },
    {
     "data": {
      "image/png": "[encoded data removed]",
      "text/plain": [
       "<Figure size 432x288 with 1 Axes>"
      ]
     },
     "metadata": {
      "needs_background": "light"
     },
     "output_type": "display_data"
    },
    {
     "data": {
      "image/png": "[encoded data removed]",
      "text/plain": [
       "<Figure size 432x288 with 1 Axes>"
      ]
     },
     "metadata": {
      "needs_background": "light"
     },
     "output_type": "display_data"
    },
    {
     "data": {
      "image/png": "[encoded data removed]",
      "text/plain": [
       "<Figure size 432x288 with 1 Axes>"
      ]
     },
     "metadata": {
      "needs_background": "light"
     },
     "output_type": "display_data"
    },
    {
     "data": {
      "image/png": "[encoded data removed]",
      "text/plain": [
       "<Figure size 432x288 with 1 Axes>"
      ]
     },
     "metadata": {
      "needs_background": "light"
     },
     "output_type": "display_data"
    },
    {
     "data": {
      "image/png": "[encoded data removed]",
      "text/plain": [
       "<Figure size 432x288 with 1 Axes>"
      ]
     },
     "metadata": {
      "needs_background": "light"
     },
     "output_type": "display_data"
    }
   ],
   "source": [
    "data.hist(column=\"Medu\", grid=True)\n",
    "data.hist(column=\"Fedu\", grid=True)\n",
    "data.hist(column=\"traveltime\", grid=True)\n",
    "data.hist(column=\"studytime\", grid=True)\n",
    "data.hist(column=\"famrel\", grid=True)\n",
    "data.hist(column=\"freetime\", grid=True)\n",
    "data.hist(column=\"goout\", grid=True)\n",
    "data.hist(column=\"Dalc\", grid=True)\n",
    "data.hist(column=\"Walc\", grid=True)\n",
    "data.hist(column=\"health\", grid=True)\n",
    "data.hist(column=\"sex_M\", grid=True)\n",
    "data.hist(column=\"address_U\", grid=True)\n",
    "data.hist(column=\"famsize_LE3\", grid=True)\n",
    "data.hist(column=\"Pstatus_T\", grid=True)\n",
    "data.hist(column=\"nursery\", grid=True)\n",
    "data.hist(column=\"plans_university\", grid=True)\n",
    "data.hist(column=\"past_failures\", grid=True)\n",
    "data.hist(column=\"attendance\", grid=True)\n",
    "data.hist(column=\"school_support\", grid=True)"
   ]
  },
  {
   "cell_type": "code",
   "execution_count": 163,
   "metadata": {},
   "outputs": [
    {
     "name": "stderr",
     "output_type": "stream",
     "text": [
      "<ipython-input-163-e9003cacd2dd>:15: SettingWithCopyWarning: \n",
      "A value is trying to be set on a copy of a slice from a DataFrame\n",
      "\n",
      "See the caveats in the documentation: https://pandas.pydata.org/pandas-docs/stable/user_guide/indexing.html#returning-a-view-versus-a-copy\n",
      "  data['support'][school_support[0]] = 1\n"
     ]
    }
   ],
   "source": [
    "data = pd.read_csv(\"data.csv\")\n",
    "data = data.join(data['plans_universitypast_failures'].apply(str).str.extract('(-?1)(\\d)').apply(lambda x: [int(x[0]),int(x[1])],axis=1, result_type='expand').rename(columns={0:'plans_university', 1: 'past_failures'}))\n",
    "data = data.drop('plans_universitypast_failures', axis=1)\n",
    "wrong_index = data[(data.traveltime < 1) | (data.traveltime > 4)].index\n",
    "data = data.drop(wrong_index)\n",
    "data['age'] = data['age'].apply(lambda x: 2006 - x if x > 100 else x)\n",
    "data = data.fillna(data.mean())\n",
    "data = (data-data.min())/(data.max()-data.min())\n",
    "attendance = pd.read_csv(\"attendance.csv\")\n",
    "attendance = attendance.drop(wrong_index)\n",
    "attendance = attendance.apply(lambda x:  x[0].count('+'), axis=1)\n",
    "data['attendance'] = attendance\n",
    "school_support = pd.read_csv(\"school_support.txt\", header=None)\n",
    "data['support'] = 0\n",
    "data['support'][school_support[0]] = 1\n",
    "data = data.reset_index(drop=True)\n",
    "attendance = attendance.reset_index(drop=True)"
   ]
  },
  {
   "cell_type": "code",
   "execution_count": 166,
   "metadata": {},
   "outputs": [],
   "source": [
    "scores = scores.drop(wrong_index)\n",
    "scores = scores.reset_index(drop=True)"
   ]
  },
  {
   "cell_type": "code",
   "execution_count": 168,
   "metadata": {},
   "outputs": [
    {
     "data": {
      "text/html": [
       "<div>\n",
       "<style scoped>\n",
       "    .dataframe tbody tr th:only-of-type {\n",
       "        vertical-align: middle;\n",
       "    }\n",
       "\n",
       "    .dataframe tbody tr th {\n",
       "        vertical-align: top;\n",
       "    }\n",
       "\n",
       "    .dataframe thead th {\n",
       "        text-align: right;\n",
       "    }\n",
       "</style>\n",
       "<table border=\"1\" class=\"dataframe\">\n",
       "  <thead>\n",
       "    <tr style=\"text-align: right;\">\n",
       "      <th></th>\n",
       "      <th>age</th>\n",
       "      <th>Medu</th>\n",
       "      <th>Fedu</th>\n",
       "      <th>traveltime</th>\n",
       "      <th>studytime</th>\n",
       "      <th>famrel</th>\n",
       "      <th>freetime</th>\n",
       "      <th>goout</th>\n",
       "      <th>Dalc</th>\n",
       "      <th>Walc</th>\n",
       "      <th>health</th>\n",
       "      <th>sex_M</th>\n",
       "      <th>address_U</th>\n",
       "      <th>famsize_LE3</th>\n",
       "      <th>Pstatus_T</th>\n",
       "      <th>nursery</th>\n",
       "      <th>plans_university</th>\n",
       "      <th>past_failures</th>\n",
       "      <th>attendance</th>\n",
       "      <th>support</th>\n",
       "    </tr>\n",
       "  </thead>\n",
       "  <tbody>\n",
       "    <tr>\n",
       "      <th>0</th>\n",
       "      <td>0.142857</td>\n",
       "      <td>1.00</td>\n",
       "      <td>1.00</td>\n",
       "      <td>0.000000</td>\n",
       "      <td>0.333333</td>\n",
       "      <td>1.00</td>\n",
       "      <td>0.75</td>\n",
       "      <td>0.75</td>\n",
       "      <td>0.00</td>\n",
       "      <td>0.25</td>\n",
       "      <td>1.00</td>\n",
       "      <td>1.0</td>\n",
       "      <td>1.0</td>\n",
       "      <td>0.0</td>\n",
       "      <td>1.0</td>\n",
       "      <td>1.0</td>\n",
       "      <td>1.0</td>\n",
       "      <td>0.000000</td>\n",
       "      <td>26</td>\n",
       "      <td>0</td>\n",
       "    </tr>\n",
       "    <tr>\n",
       "      <th>1</th>\n",
       "      <td>0.285714</td>\n",
       "      <td>1.00</td>\n",
       "      <td>1.00</td>\n",
       "      <td>0.000000</td>\n",
       "      <td>0.000000</td>\n",
       "      <td>1.00</td>\n",
       "      <td>0.50</td>\n",
       "      <td>0.75</td>\n",
       "      <td>0.00</td>\n",
       "      <td>0.25</td>\n",
       "      <td>1.00</td>\n",
       "      <td>0.0</td>\n",
       "      <td>1.0</td>\n",
       "      <td>0.0</td>\n",
       "      <td>1.0</td>\n",
       "      <td>1.0</td>\n",
       "      <td>1.0</td>\n",
       "      <td>0.000000</td>\n",
       "      <td>30</td>\n",
       "      <td>0</td>\n",
       "    </tr>\n",
       "    <tr>\n",
       "      <th>2</th>\n",
       "      <td>0.142857</td>\n",
       "      <td>0.25</td>\n",
       "      <td>0.25</td>\n",
       "      <td>0.333333</td>\n",
       "      <td>0.000000</td>\n",
       "      <td>0.75</td>\n",
       "      <td>1.00</td>\n",
       "      <td>1.00</td>\n",
       "      <td>0.25</td>\n",
       "      <td>0.75</td>\n",
       "      <td>1.00</td>\n",
       "      <td>1.0</td>\n",
       "      <td>0.0</td>\n",
       "      <td>1.0</td>\n",
       "      <td>1.0</td>\n",
       "      <td>1.0</td>\n",
       "      <td>1.0</td>\n",
       "      <td>0.000000</td>\n",
       "      <td>32</td>\n",
       "      <td>0</td>\n",
       "    </tr>\n",
       "    <tr>\n",
       "      <th>3</th>\n",
       "      <td>0.428571</td>\n",
       "      <td>0.25</td>\n",
       "      <td>0.50</td>\n",
       "      <td>0.333333</td>\n",
       "      <td>0.000000</td>\n",
       "      <td>0.50</td>\n",
       "      <td>0.75</td>\n",
       "      <td>0.75</td>\n",
       "      <td>0.25</td>\n",
       "      <td>0.75</td>\n",
       "      <td>0.75</td>\n",
       "      <td>1.0</td>\n",
       "      <td>1.0</td>\n",
       "      <td>0.0</td>\n",
       "      <td>1.0</td>\n",
       "      <td>0.0</td>\n",
       "      <td>0.0</td>\n",
       "      <td>0.000000</td>\n",
       "      <td>22</td>\n",
       "      <td>0</td>\n",
       "    </tr>\n",
       "    <tr>\n",
       "      <th>4</th>\n",
       "      <td>0.285714</td>\n",
       "      <td>0.50</td>\n",
       "      <td>0.25</td>\n",
       "      <td>0.333333</td>\n",
       "      <td>0.333333</td>\n",
       "      <td>0.75</td>\n",
       "      <td>0.25</td>\n",
       "      <td>1.00</td>\n",
       "      <td>0.00</td>\n",
       "      <td>0.25</td>\n",
       "      <td>1.00</td>\n",
       "      <td>0.0</td>\n",
       "      <td>0.0</td>\n",
       "      <td>0.0</td>\n",
       "      <td>1.0</td>\n",
       "      <td>1.0</td>\n",
       "      <td>1.0</td>\n",
       "      <td>0.000000</td>\n",
       "      <td>32</td>\n",
       "      <td>0</td>\n",
       "    </tr>\n",
       "    <tr>\n",
       "      <th>...</th>\n",
       "      <td>...</td>\n",
       "      <td>...</td>\n",
       "      <td>...</td>\n",
       "      <td>...</td>\n",
       "      <td>...</td>\n",
       "      <td>...</td>\n",
       "      <td>...</td>\n",
       "      <td>...</td>\n",
       "      <td>...</td>\n",
       "      <td>...</td>\n",
       "      <td>...</td>\n",
       "      <td>...</td>\n",
       "      <td>...</td>\n",
       "      <td>...</td>\n",
       "      <td>...</td>\n",
       "      <td>...</td>\n",
       "      <td>...</td>\n",
       "      <td>...</td>\n",
       "      <td>...</td>\n",
       "      <td>...</td>\n",
       "    </tr>\n",
       "    <tr>\n",
       "      <th>640</th>\n",
       "      <td>0.000000</td>\n",
       "      <td>0.75</td>\n",
       "      <td>0.75</td>\n",
       "      <td>0.333333</td>\n",
       "      <td>0.000000</td>\n",
       "      <td>1.00</td>\n",
       "      <td>0.75</td>\n",
       "      <td>0.75</td>\n",
       "      <td>0.25</td>\n",
       "      <td>0.50</td>\n",
       "      <td>1.00</td>\n",
       "      <td>0.0</td>\n",
       "      <td>0.0</td>\n",
       "      <td>0.0</td>\n",
       "      <td>1.0</td>\n",
       "      <td>1.0</td>\n",
       "      <td>1.0</td>\n",
       "      <td>0.000000</td>\n",
       "      <td>28</td>\n",
       "      <td>0</td>\n",
       "    </tr>\n",
       "    <tr>\n",
       "      <th>641</th>\n",
       "      <td>0.428571</td>\n",
       "      <td>0.50</td>\n",
       "      <td>0.50</td>\n",
       "      <td>1.000000</td>\n",
       "      <td>0.333333</td>\n",
       "      <td>0.75</td>\n",
       "      <td>0.25</td>\n",
       "      <td>1.00</td>\n",
       "      <td>0.00</td>\n",
       "      <td>0.00</td>\n",
       "      <td>0.25</td>\n",
       "      <td>0.0</td>\n",
       "      <td>1.0</td>\n",
       "      <td>0.0</td>\n",
       "      <td>1.0</td>\n",
       "      <td>1.0</td>\n",
       "      <td>1.0</td>\n",
       "      <td>0.000000</td>\n",
       "      <td>30</td>\n",
       "      <td>0</td>\n",
       "    </tr>\n",
       "    <tr>\n",
       "      <th>642</th>\n",
       "      <td>0.000000</td>\n",
       "      <td>1.00</td>\n",
       "      <td>1.00</td>\n",
       "      <td>0.333333</td>\n",
       "      <td>0.333333</td>\n",
       "      <td>0.75</td>\n",
       "      <td>0.50</td>\n",
       "      <td>0.00</td>\n",
       "      <td>0.00</td>\n",
       "      <td>0.00</td>\n",
       "      <td>1.00</td>\n",
       "      <td>1.0</td>\n",
       "      <td>1.0</td>\n",
       "      <td>0.0</td>\n",
       "      <td>1.0</td>\n",
       "      <td>1.0</td>\n",
       "      <td>1.0</td>\n",
       "      <td>0.000000</td>\n",
       "      <td>30</td>\n",
       "      <td>0</td>\n",
       "    </tr>\n",
       "    <tr>\n",
       "      <th>643</th>\n",
       "      <td>0.857143</td>\n",
       "      <td>0.25</td>\n",
       "      <td>0.25</td>\n",
       "      <td>0.333333</td>\n",
       "      <td>0.333333</td>\n",
       "      <td>1.00</td>\n",
       "      <td>0.50</td>\n",
       "      <td>0.50</td>\n",
       "      <td>1.00</td>\n",
       "      <td>0.25</td>\n",
       "      <td>0.75</td>\n",
       "      <td>1.0</td>\n",
       "      <td>0.0</td>\n",
       "      <td>1.0</td>\n",
       "      <td>1.0</td>\n",
       "      <td>1.0</td>\n",
       "      <td>0.0</td>\n",
       "      <td>0.666667</td>\n",
       "      <td>11</td>\n",
       "      <td>0</td>\n",
       "    </tr>\n",
       "    <tr>\n",
       "      <th>644</th>\n",
       "      <td>0.142857</td>\n",
       "      <td>0.50</td>\n",
       "      <td>0.50</td>\n",
       "      <td>0.000000</td>\n",
       "      <td>0.000000</td>\n",
       "      <td>0.75</td>\n",
       "      <td>0.50</td>\n",
       "      <td>0.75</td>\n",
       "      <td>0.00</td>\n",
       "      <td>0.25</td>\n",
       "      <td>0.00</td>\n",
       "      <td>0.0</td>\n",
       "      <td>1.0</td>\n",
       "      <td>1.0</td>\n",
       "      <td>0.0</td>\n",
       "      <td>1.0</td>\n",
       "      <td>0.0</td>\n",
       "      <td>0.000000</td>\n",
       "      <td>26</td>\n",
       "      <td>0</td>\n",
       "    </tr>\n",
       "  </tbody>\n",
       "</table>\n",
       "<p>645 rows × 20 columns</p>\n",
       "</div>"
      ],
      "text/plain": [
       "          age  Medu  Fedu  traveltime  studytime  famrel  freetime  goout  \\\n",
       "0    0.142857  1.00  1.00    0.000000   0.333333    1.00      0.75   0.75   \n",
       "1    0.285714  1.00  1.00    0.000000   0.000000    1.00      0.50   0.75   \n",
       "2    0.142857  0.25  0.25    0.333333   0.000000    0.75      1.00   1.00   \n",
       "3    0.428571  0.25  0.50    0.333333   0.000000    0.50      0.75   0.75   \n",
       "4    0.285714  0.50  0.25    0.333333   0.333333    0.75      0.25   1.00   \n",
       "..        ...   ...   ...         ...        ...     ...       ...    ...   \n",
       "640  0.000000  0.75  0.75    0.333333   0.000000    1.00      0.75   0.75   \n",
       "641  0.428571  0.50  0.50    1.000000   0.333333    0.75      0.25   1.00   \n",
       "642  0.000000  1.00  1.00    0.333333   0.333333    0.75      0.50   0.00   \n",
       "643  0.857143  0.25  0.25    0.333333   0.333333    1.00      0.50   0.50   \n",
       "644  0.142857  0.50  0.50    0.000000   0.000000    0.75      0.50   0.75   \n",
       "\n",
       "     Dalc  Walc  health  sex_M  address_U  famsize_LE3  Pstatus_T  nursery  \\\n",
       "0    0.00  0.25    1.00    1.0        1.0          0.0        1.0      1.0   \n",
       "1    0.00  0.25    1.00    0.0        1.0          0.0        1.0      1.0   \n",
       "2    0.25  0.75    1.00    1.0        0.0          1.0        1.0      1.0   \n",
       "3    0.25  0.75    0.75    1.0        1.0          0.0        1.0      0.0   \n",
       "4    0.00  0.25    1.00    0.0        0.0          0.0        1.0      1.0   \n",
       "..    ...   ...     ...    ...        ...          ...        ...      ...   \n",
       "640  0.25  0.50    1.00    0.0        0.0          0.0        1.0      1.0   \n",
       "641  0.00  0.00    0.25    0.0        1.0          0.0        1.0      1.0   \n",
       "642  0.00  0.00    1.00    1.0        1.0          0.0        1.0      1.0   \n",
       "643  1.00  0.25    0.75    1.0        0.0          1.0        1.0      1.0   \n",
       "644  0.00  0.25    0.00    0.0        1.0          1.0        0.0      1.0   \n",
       "\n",
       "     plans_university  past_failures  attendance  support  \n",
       "0                 1.0       0.000000          26        0  \n",
       "1                 1.0       0.000000          30        0  \n",
       "2                 1.0       0.000000          32        0  \n",
       "3                 0.0       0.000000          22        0  \n",
       "4                 1.0       0.000000          32        0  \n",
       "..                ...            ...         ...      ...  \n",
       "640               1.0       0.000000          28        0  \n",
       "641               1.0       0.000000          30        0  \n",
       "642               1.0       0.000000          30        0  \n",
       "643               0.0       0.666667          11        0  \n",
       "644               0.0       0.000000          26        0  \n",
       "\n",
       "[645 rows x 20 columns]"
      ]
     },
     "execution_count": 168,
     "metadata": {},
     "output_type": "execute_result"
    }
   ],
   "source": [
    "data"
   ]
  },
  {
   "cell_type": "markdown",
   "metadata": {},
   "source": [
    "__(1.5 балла)__"
   ]
  },
  {
   "cell_type": "markdown",
   "metadata": {},
   "source": [
    "Другой простой способ найти выбросы &mdash; сделать предсказание и посчитать ошибку на каждом объекте по отдельности и посмотреть на объекты с наибольшей ошибкой. Обучите линейную регрессию (функция fit) и для каждого объекта посчитайте среднеквадратичное отклонение. Постройте гистограмму распределения ошибок. Посмотрите на гистограмму и удалите из выборки те объекты на которых ошибка слишком большая.\n",
    "\n",
    "Обратите внимание, что просто удалять все объекты с высокой ошибкой нельзя &mdash; это, конечно, хороший способ добиться меньшей ошибки (на данной выборке), но одновременно вы ухудшите обобщающую способность алгоритма. Вместо этого вам нужно найти однозначно ошибочные записи и их исправить.\n",
    "\n",
    "*Hint: возможно, все проблемы уже были найдены первым способом; для проверки &mdash; в сумме здесь нужно исправить 3 проблемы.*"
   ]
  },
  {
   "cell_type": "markdown",
   "metadata": {},
   "source": [
    "Для поиска ошибки на одном отдельном обьекте придётся обучить линейную регрессию руками. Частичный пример, допишите код. Постройте гистограмму распределения ошибок"
   ]
  },
  {
   "cell_type": "code",
   "execution_count": 169,
   "metadata": {},
   "outputs": [
    {
     "data": {
      "image/png": "[encoded data removed]",
      "text/plain": [
       "<Figure size 432x288 with 1 Axes>"
      ]
     },
     "metadata": {
      "needs_background": "light"
     },
     "output_type": "display_data"
    }
   ],
   "source": [
    "import sklearn\n",
    "from sklearn import linear_model\n",
    "from matplotlib import pyplot\n",
    "\n",
    "regression = linear_model.LinearRegression().fit(X, Y) #create model and train it\n",
    "prediction = regression.predict(X).reshape((1,-1))[0]\n",
    "error = (prediction-Y[0])**2\n",
    "pyplot.hist(error)\n",
    "\n",
    "worst_index = np.argpartition(error.values, -19)[-19:]\n",
    "worst = data.take(worst_index)\n",
    "data = data.drop(worst_index, axis='index')\n",
    "data = data.reset_index(drop=True)\n"
   ]
  },
  {
   "cell_type": "markdown",
   "metadata": {},
   "source": [
    "Исключительно большая ошибка на людях с очень малым Y. Возможно для них есть другие причины оценки, не отраженные в выборке."
   ]
  },
  {
   "cell_type": "code",
   "execution_count": 171,
   "metadata": {},
   "outputs": [],
   "source": [
    "scores = scores.drop(worst_index, axis='index')\n",
    "scores = scores.reset_index(drop=True)\n"
   ]
  },
  {
   "cell_type": "markdown",
   "metadata": {},
   "source": [
    "### Финальное предсказание и отчёт (1 балл)\n",
    "\n",
    "Проведите предсказание еще раз и сравните качество с исходным. Запишите свои наблюдения - как изменялось качество обучения модели при использовании разных модификаций данных. "
   ]
  },
  {
   "cell_type": "code",
   "execution_count": 172,
   "metadata": {
    "scrolled": true
   },
   "outputs": [
    {
     "name": "stdout",
     "output_type": "stream",
     "text": [
      "[0.28819514 0.28426946 0.22078888 0.3282323 ]\n",
      "0.2803714427075148\n"
     ]
    }
   ],
   "source": [
    "x, y = data, scores\n",
    "regression = LinearRegression()\n",
    "test_scores = cross_val_score(regression, x, y, cv = 4)\n",
    "print(test_scores)\n",
    "print(test_scores.mean())"
   ]
  },
  {
   "cell_type": "markdown",
   "metadata": {},
   "source": [
    "Изменилась точность - с 0.21 до 0.28"
   ]
  },
  {
   "cell_type": "code",
   "execution_count": null,
   "metadata": {},
   "outputs": [],
   "source": []
  }
 ],
 "metadata": {
  "kernelspec": {
   "display_name": "Python 3",
   "language": "python",
   "name": "python3"
  },
  "language_info": {
   "codemirror_mode": {
    "name": "ipython",
    "version": 3
   },
   "file_extension": ".py",
   "mimetype": "text/x-python",
   "name": "python",
   "nbconvert_exporter": "python",
   "pygments_lexer": "ipython3",
   "version": "3.8.8"
  }
 },
 "nbformat": 4,
 "nbformat_minor": 2
}
